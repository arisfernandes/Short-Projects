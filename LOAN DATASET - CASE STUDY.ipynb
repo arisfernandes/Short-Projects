{
 "cells": [
  {
   "cell_type": "markdown",
   "id": "fffd8a17",
   "metadata": {},
   "source": [
    "<table align=\"center\" width=100%>\n",
    "        <td>\n",
    "            <div align=\"right\">\n",
    "                <font color=\"#21618C\" size=6px>\n",
    "                    <b>LOAN DATASET - CASE STUDY\n",
    "                    </b>  \n",
    "                </font>\n",
    "            </div>\n",
    "        </td>"
   ]
  },
  {
   "cell_type": "markdown",
   "id": "9169f9a6",
   "metadata": {},
   "source": [
    "## Problem Statement:\n",
    "In this Case study we need to use Loans dataset with the aim to identify variables which indicate if a person is likely to default.With the Exploratory Data Analysis here, we have to identify the risky loan applicants to avoid any financial loss to the company.\n"
   ]
  },
  {
   "cell_type": "markdown",
   "id": "f2d42792",
   "metadata": {},
   "source": [
    "## DataSet Description :\n",
    "It contains the complete loan data for all loans issued through the time period 2007 to 2011."
   ]
  },
  {
   "cell_type": "markdown",
   "id": "07b0536c",
   "metadata": {},
   "source": [
    "## Data Dictionary :\n",
    "* **annual_inc** - The self-reported annual income provided by the borrower during registration.\n",
    "* **dti** - A ratio calculated using the borrower’s total monthly debt payments on the total debt obligations, excluding mortgage and the requested LC loan,divided by the borrower’s self-reported monthly income.\n",
    "* **emp_length** -Employment length in years. Possible values are between 0 and 10 where 0 means less than one year and 10 means ten or more years.\n",
    "* **funded_amnt** - The total amount committed to that loan at that point in time.\n",
    "* **funded_amnt_inv** -The total amount committed by investors for that loan at that point in time.\n",
    "* **grade** - LC assigned loan grade\n",
    "* **id** - A unique LC assigned ID for the loan listing.\n",
    "* **installment** - The monthly payment owed by the borrower if the loan originates.\n",
    "* **int_rate** - Interest Rate on the loan\n",
    "* **last_pymnt_amnt**-Last total payment amount received\n",
    "* **last_pymnt_d** -Last month payment was received\n",
    "* **loan_amnt** -The listed amount of the loan applied for by the borrower. If atsome point in time, the credit departmentreduces the loan amount, then it will be reflected in this value.\n",
    "* **loan_status** - Current status of the loan\n",
    "* **member_id** -A unique LC assigned Id for the borrower member.\n",
    "* **purpose** - A category provided by the borrower for the loan request.\n",
    "* **term** -The number of payments on the loan. Values are in months and can be either 36 or 60.\n",
    "* **total_acc** -The total number of credit lines currently in the borrower's credit file\n",
    "* **total_pymnt** -Payments received to date for total amount funded\n",
    "* **total_pymnt_inv** -Payments received to date for portion of total amount funded by investors\n",
    "* **total_rec_int** -Interest received to date"
   ]
  },
  {
   "cell_type": "markdown",
   "id": "4dd33f8f",
   "metadata": {},
   "source": [
    "## Understanding the data"
   ]
  },
  {
   "cell_type": "markdown",
   "id": "a3d8ef9b",
   "metadata": {},
   "source": [
    "### Import the libraries"
   ]
  },
  {
   "cell_type": "code",
   "execution_count": 12,
   "id": "c9740a03",
   "metadata": {},
   "outputs": [],
   "source": [
    "# Import the required libraries\n",
    "import numpy as np                  # Import numpy library to perform mathematical functions\n",
    "import pandas as pd                 # Import pandas to perform operations on dataset\n",
    "import matplotlib.pyplot as plt     # Import matplotlib for visualization tools\n",
    "import seaborn as sns               # Import seaborn for advanced visualization tools\n",
    "import warnings                     # Import warnings library \n",
    "warnings.filterwarnings('ignore')   # Ignore warnings during code execution"
   ]
  },
  {
   "cell_type": "code",
   "execution_count": 18,
   "id": "8aad3077",
   "metadata": {},
   "outputs": [
    {
     "data": {
      "text/html": [
       "<div>\n",
       "<style scoped>\n",
       "    .dataframe tbody tr th:only-of-type {\n",
       "        vertical-align: middle;\n",
       "    }\n",
       "\n",
       "    .dataframe tbody tr th {\n",
       "        vertical-align: top;\n",
       "    }\n",
       "\n",
       "    .dataframe thead th {\n",
       "        text-align: right;\n",
       "    }\n",
       "</style>\n",
       "<table border=\"1\" class=\"dataframe\">\n",
       "  <thead>\n",
       "    <tr style=\"text-align: right;\">\n",
       "      <th></th>\n",
       "      <th>id</th>\n",
       "      <th>member_id</th>\n",
       "      <th>loan_amnt</th>\n",
       "      <th>funded_amnt</th>\n",
       "      <th>funded_amnt_inv</th>\n",
       "      <th>term</th>\n",
       "      <th>int_rate</th>\n",
       "      <th>installment</th>\n",
       "      <th>grade</th>\n",
       "      <th>emp_length</th>\n",
       "      <th>...</th>\n",
       "      <th>purpose</th>\n",
       "      <th>dti</th>\n",
       "      <th>total_pymnt</th>\n",
       "      <th>total_pymnt_inv</th>\n",
       "      <th>total_rec_prncp</th>\n",
       "      <th>total_rec_int</th>\n",
       "      <th>last_pymnt_d</th>\n",
       "      <th>last_pymnt_amnt</th>\n",
       "      <th>Unnamed: 21</th>\n",
       "      <th>Unnamed: 22</th>\n",
       "    </tr>\n",
       "  </thead>\n",
       "  <tbody>\n",
       "    <tr>\n",
       "      <th>0</th>\n",
       "      <td>1077501</td>\n",
       "      <td>1296599</td>\n",
       "      <td>5000</td>\n",
       "      <td>5000</td>\n",
       "      <td>4975.0</td>\n",
       "      <td>36 months</td>\n",
       "      <td>10.65%</td>\n",
       "      <td>162.87</td>\n",
       "      <td>B</td>\n",
       "      <td>10+ years</td>\n",
       "      <td>...</td>\n",
       "      <td>credit_card</td>\n",
       "      <td>27.65</td>\n",
       "      <td>5863.155187</td>\n",
       "      <td>5833.84</td>\n",
       "      <td>5000.00</td>\n",
       "      <td>863.16</td>\n",
       "      <td>Jan-15</td>\n",
       "      <td>171.62</td>\n",
       "      <td>NaN</td>\n",
       "      <td>NaN</td>\n",
       "    </tr>\n",
       "    <tr>\n",
       "      <th>1</th>\n",
       "      <td>1077430</td>\n",
       "      <td>1314167</td>\n",
       "      <td>2500</td>\n",
       "      <td>2500</td>\n",
       "      <td>2500.0</td>\n",
       "      <td>60 months</td>\n",
       "      <td>15.27%</td>\n",
       "      <td>59.83</td>\n",
       "      <td>C</td>\n",
       "      <td>&lt; 1 year</td>\n",
       "      <td>...</td>\n",
       "      <td>car</td>\n",
       "      <td>1.00</td>\n",
       "      <td>1008.710000</td>\n",
       "      <td>1008.71</td>\n",
       "      <td>456.46</td>\n",
       "      <td>435.17</td>\n",
       "      <td>Apr-13</td>\n",
       "      <td>119.66</td>\n",
       "      <td>NaN</td>\n",
       "      <td>NaN</td>\n",
       "    </tr>\n",
       "    <tr>\n",
       "      <th>2</th>\n",
       "      <td>1077175</td>\n",
       "      <td>1313524</td>\n",
       "      <td>2400</td>\n",
       "      <td>2400</td>\n",
       "      <td>2400.0</td>\n",
       "      <td>36 months</td>\n",
       "      <td>15.96%</td>\n",
       "      <td>84.33</td>\n",
       "      <td>C</td>\n",
       "      <td>10+ years</td>\n",
       "      <td>...</td>\n",
       "      <td>small_business</td>\n",
       "      <td>8.72</td>\n",
       "      <td>3005.666844</td>\n",
       "      <td>3005.67</td>\n",
       "      <td>2400.00</td>\n",
       "      <td>605.67</td>\n",
       "      <td>Jun-14</td>\n",
       "      <td>649.91</td>\n",
       "      <td>NaN</td>\n",
       "      <td>NaN</td>\n",
       "    </tr>\n",
       "    <tr>\n",
       "      <th>3</th>\n",
       "      <td>1076863</td>\n",
       "      <td>1277178</td>\n",
       "      <td>10000</td>\n",
       "      <td>10000</td>\n",
       "      <td>10000.0</td>\n",
       "      <td>36 months</td>\n",
       "      <td>13.49%</td>\n",
       "      <td>339.31</td>\n",
       "      <td>C</td>\n",
       "      <td>10+ years</td>\n",
       "      <td>...</td>\n",
       "      <td>other</td>\n",
       "      <td>20.00</td>\n",
       "      <td>12231.890000</td>\n",
       "      <td>12231.89</td>\n",
       "      <td>10000.00</td>\n",
       "      <td>2214.92</td>\n",
       "      <td>Jan-15</td>\n",
       "      <td>357.48</td>\n",
       "      <td>NaN</td>\n",
       "      <td>NaN</td>\n",
       "    </tr>\n",
       "    <tr>\n",
       "      <th>4</th>\n",
       "      <td>1075358</td>\n",
       "      <td>1311748</td>\n",
       "      <td>3000</td>\n",
       "      <td>3000</td>\n",
       "      <td>3000.0</td>\n",
       "      <td>60 months</td>\n",
       "      <td>12.69%</td>\n",
       "      <td>67.79</td>\n",
       "      <td>B</td>\n",
       "      <td>1 year</td>\n",
       "      <td>...</td>\n",
       "      <td>other</td>\n",
       "      <td>17.94</td>\n",
       "      <td>3513.330000</td>\n",
       "      <td>3513.33</td>\n",
       "      <td>2475.94</td>\n",
       "      <td>1037.39</td>\n",
       "      <td>May-16</td>\n",
       "      <td>67.79</td>\n",
       "      <td>NaN</td>\n",
       "      <td>NaN</td>\n",
       "    </tr>\n",
       "  </tbody>\n",
       "</table>\n",
       "<p>5 rows × 23 columns</p>\n",
       "</div>"
      ],
      "text/plain": [
       "        id  member_id  loan_amnt  funded_amnt  funded_amnt_inv        term  \\\n",
       "0  1077501    1296599       5000         5000           4975.0   36 months   \n",
       "1  1077430    1314167       2500         2500           2500.0   60 months   \n",
       "2  1077175    1313524       2400         2400           2400.0   36 months   \n",
       "3  1076863    1277178      10000        10000          10000.0   36 months   \n",
       "4  1075358    1311748       3000         3000           3000.0   60 months   \n",
       "\n",
       "  int_rate  installment grade emp_length  ...         purpose    dti  \\\n",
       "0   10.65%       162.87     B  10+ years  ...     credit_card  27.65   \n",
       "1   15.27%        59.83     C   < 1 year  ...             car   1.00   \n",
       "2   15.96%        84.33     C  10+ years  ...  small_business   8.72   \n",
       "3   13.49%       339.31     C  10+ years  ...           other  20.00   \n",
       "4   12.69%        67.79     B     1 year  ...           other  17.94   \n",
       "\n",
       "    total_pymnt total_pymnt_inv  total_rec_prncp  total_rec_int  last_pymnt_d  \\\n",
       "0   5863.155187         5833.84          5000.00         863.16        Jan-15   \n",
       "1   1008.710000         1008.71           456.46         435.17        Apr-13   \n",
       "2   3005.666844         3005.67          2400.00         605.67        Jun-14   \n",
       "3  12231.890000        12231.89         10000.00        2214.92        Jan-15   \n",
       "4   3513.330000         3513.33          2475.94        1037.39        May-16   \n",
       "\n",
       "   last_pymnt_amnt  Unnamed: 21 Unnamed: 22  \n",
       "0           171.62          NaN         NaN  \n",
       "1           119.66          NaN         NaN  \n",
       "2           649.91          NaN         NaN  \n",
       "3           357.48          NaN         NaN  \n",
       "4            67.79          NaN         NaN  \n",
       "\n",
       "[5 rows x 23 columns]"
      ]
     },
     "execution_count": 18,
     "metadata": {},
     "output_type": "execute_result"
    }
   ],
   "source": [
    "#Importing the data file\n",
    "df = pd.read_csv(\"loan.csv\")\n",
    "\n",
    "#To understand the data extract the first five rows using head function\n",
    "df.head()"
   ]
  },
  {
   "cell_type": "code",
   "execution_count": 19,
   "id": "7f056be4",
   "metadata": {},
   "outputs": [
    {
     "name": "stdout",
     "output_type": "stream",
     "text": [
      "Number of rows: 39717\n",
      "Number of columns: 23\n"
     ]
    }
   ],
   "source": [
    "print(\"Number of rows:\", df.shape[0])    # no of rows\n",
    "print(\"Number of columns:\", df.shape[1]) # no of columns"
   ]
  },
  {
   "cell_type": "code",
   "execution_count": 20,
   "id": "00f3d3de",
   "metadata": {},
   "outputs": [
    {
     "name": "stdout",
     "output_type": "stream",
     "text": [
      "<class 'pandas.core.frame.DataFrame'>\n",
      "RangeIndex: 39717 entries, 0 to 39716\n",
      "Data columns (total 23 columns):\n",
      " #   Column               Non-Null Count  Dtype  \n",
      "---  ------               --------------  -----  \n",
      " 0   id                   39717 non-null  int64  \n",
      " 1   member_id            39717 non-null  int64  \n",
      " 2   loan_amnt            39717 non-null  int64  \n",
      " 3   funded_amnt          39717 non-null  int64  \n",
      " 4   funded_amnt_inv      39717 non-null  float64\n",
      " 5   term                 39717 non-null  object \n",
      " 6   int_rate             39717 non-null  object \n",
      " 7   installment          39717 non-null  float64\n",
      " 8   grade                39717 non-null  object \n",
      " 9   emp_length           38642 non-null  object \n",
      " 10  annual_inc           39717 non-null  float64\n",
      " 11  verification_status  39717 non-null  object \n",
      " 12  loan_status          39717 non-null  object \n",
      " 13  purpose              39717 non-null  object \n",
      " 14  dti                  39717 non-null  float64\n",
      " 15  total_pymnt          39717 non-null  float64\n",
      " 16  total_pymnt_inv      39717 non-null  float64\n",
      " 17  total_rec_prncp      39717 non-null  float64\n",
      " 18  total_rec_int        39717 non-null  float64\n",
      " 19  last_pymnt_d         39646 non-null  object \n",
      " 20  last_pymnt_amnt      39717 non-null  float64\n",
      " 21  Unnamed: 21          0 non-null      float64\n",
      " 22  Unnamed: 22          0 non-null      float64\n",
      "dtypes: float64(11), int64(4), object(8)\n",
      "memory usage: 7.0+ MB\n"
     ]
    }
   ],
   "source": [
    "# To display the type of data in each column \n",
    "df.info()"
   ]
  },
  {
   "cell_type": "markdown",
   "id": "487bfd64",
   "metadata": {},
   "source": [
    "## Data Cleaning"
   ]
  },
  {
   "cell_type": "code",
   "execution_count": 21,
   "id": "dade3330",
   "metadata": {},
   "outputs": [
    {
     "data": {
      "text/html": [
       "<div>\n",
       "<style scoped>\n",
       "    .dataframe tbody tr th:only-of-type {\n",
       "        vertical-align: middle;\n",
       "    }\n",
       "\n",
       "    .dataframe tbody tr th {\n",
       "        vertical-align: top;\n",
       "    }\n",
       "\n",
       "    .dataframe thead th {\n",
       "        text-align: right;\n",
       "    }\n",
       "</style>\n",
       "<table border=\"1\" class=\"dataframe\">\n",
       "  <thead>\n",
       "    <tr style=\"text-align: right;\">\n",
       "      <th></th>\n",
       "      <th>id</th>\n",
       "      <th>member_id</th>\n",
       "      <th>loan_amnt</th>\n",
       "      <th>funded_amnt</th>\n",
       "      <th>funded_amnt_inv</th>\n",
       "      <th>term</th>\n",
       "      <th>int_rate</th>\n",
       "      <th>installment</th>\n",
       "      <th>grade</th>\n",
       "      <th>emp_length</th>\n",
       "      <th>...</th>\n",
       "      <th>verification_status</th>\n",
       "      <th>loan_status</th>\n",
       "      <th>purpose</th>\n",
       "      <th>dti</th>\n",
       "      <th>total_pymnt</th>\n",
       "      <th>total_pymnt_inv</th>\n",
       "      <th>total_rec_prncp</th>\n",
       "      <th>total_rec_int</th>\n",
       "      <th>last_pymnt_d</th>\n",
       "      <th>last_pymnt_amnt</th>\n",
       "    </tr>\n",
       "  </thead>\n",
       "  <tbody>\n",
       "    <tr>\n",
       "      <th>0</th>\n",
       "      <td>1077501</td>\n",
       "      <td>1296599</td>\n",
       "      <td>5000</td>\n",
       "      <td>5000</td>\n",
       "      <td>4975.0</td>\n",
       "      <td>36 months</td>\n",
       "      <td>10.65%</td>\n",
       "      <td>162.87</td>\n",
       "      <td>B</td>\n",
       "      <td>10+ years</td>\n",
       "      <td>...</td>\n",
       "      <td>Verified</td>\n",
       "      <td>Fully Paid</td>\n",
       "      <td>credit_card</td>\n",
       "      <td>27.65</td>\n",
       "      <td>5863.155187</td>\n",
       "      <td>5833.84</td>\n",
       "      <td>5000.00</td>\n",
       "      <td>863.16</td>\n",
       "      <td>Jan-15</td>\n",
       "      <td>171.62</td>\n",
       "    </tr>\n",
       "    <tr>\n",
       "      <th>1</th>\n",
       "      <td>1077430</td>\n",
       "      <td>1314167</td>\n",
       "      <td>2500</td>\n",
       "      <td>2500</td>\n",
       "      <td>2500.0</td>\n",
       "      <td>60 months</td>\n",
       "      <td>15.27%</td>\n",
       "      <td>59.83</td>\n",
       "      <td>C</td>\n",
       "      <td>&lt; 1 year</td>\n",
       "      <td>...</td>\n",
       "      <td>Source Verified</td>\n",
       "      <td>Charged Off</td>\n",
       "      <td>car</td>\n",
       "      <td>1.00</td>\n",
       "      <td>1008.710000</td>\n",
       "      <td>1008.71</td>\n",
       "      <td>456.46</td>\n",
       "      <td>435.17</td>\n",
       "      <td>Apr-13</td>\n",
       "      <td>119.66</td>\n",
       "    </tr>\n",
       "  </tbody>\n",
       "</table>\n",
       "<p>2 rows × 21 columns</p>\n",
       "</div>"
      ],
      "text/plain": [
       "        id  member_id  loan_amnt  funded_amnt  funded_amnt_inv        term  \\\n",
       "0  1077501    1296599       5000         5000           4975.0   36 months   \n",
       "1  1077430    1314167       2500         2500           2500.0   60 months   \n",
       "\n",
       "  int_rate  installment grade emp_length  ...  verification_status  \\\n",
       "0   10.65%       162.87     B  10+ years  ...             Verified   \n",
       "1   15.27%        59.83     C   < 1 year  ...      Source Verified   \n",
       "\n",
       "   loan_status      purpose    dti  total_pymnt  total_pymnt_inv  \\\n",
       "0   Fully Paid  credit_card  27.65  5863.155187          5833.84   \n",
       "1  Charged Off          car   1.00  1008.710000          1008.71   \n",
       "\n",
       "   total_rec_prncp  total_rec_int  last_pymnt_d last_pymnt_amnt  \n",
       "0          5000.00         863.16        Jan-15          171.62  \n",
       "1           456.46         435.17        Apr-13          119.66  \n",
       "\n",
       "[2 rows x 21 columns]"
      ]
     },
     "execution_count": 21,
     "metadata": {},
     "output_type": "execute_result"
    }
   ],
   "source": [
    "#Removing the columns having complete NaN value in the entire dataset\n",
    "df.drop([\"Unnamed: 21\",\"Unnamed: 22\"],axis=1,inplace=True)\n",
    "df.head(2)"
   ]
  },
  {
   "cell_type": "code",
   "execution_count": 22,
   "id": "ccad0793",
   "metadata": {
    "scrolled": false
   },
   "outputs": [
    {
     "data": {
      "text/plain": [
       "id                        0\n",
       "member_id                 0\n",
       "loan_amnt                 0\n",
       "funded_amnt               0\n",
       "funded_amnt_inv           0\n",
       "term                      0\n",
       "int_rate                  0\n",
       "installment               0\n",
       "grade                     0\n",
       "emp_length             1075\n",
       "annual_inc                0\n",
       "verification_status       0\n",
       "loan_status               0\n",
       "purpose                   0\n",
       "dti                       0\n",
       "total_pymnt               0\n",
       "total_pymnt_inv           0\n",
       "total_rec_prncp           0\n",
       "total_rec_int             0\n",
       "last_pymnt_d             71\n",
       "last_pymnt_amnt           0\n",
       "dtype: int64"
      ]
     },
     "execution_count": 22,
     "metadata": {},
     "output_type": "execute_result"
    }
   ],
   "source": [
    "#Checking null values in pending columns\n",
    "df.isnull().sum()"
   ]
  },
  {
   "cell_type": "markdown",
   "id": "a097854d",
   "metadata": {},
   "source": [
    "#### Conversion of character type into float type"
   ]
  },
  {
   "cell_type": "code",
   "execution_count": 23,
   "id": "49da808d",
   "metadata": {},
   "outputs": [
    {
     "data": {
      "text/plain": [
       "0        10.65\n",
       "1        15.27\n",
       "2        15.96\n",
       "3        13.49\n",
       "4        12.69\n",
       "         ...  \n",
       "39712     8.07\n",
       "39713    10.28\n",
       "39714     8.07\n",
       "39715     7.43\n",
       "39716    13.75\n",
       "Name: int_rate, Length: 39717, dtype: float64"
      ]
     },
     "execution_count": 23,
     "metadata": {},
     "output_type": "execute_result"
    }
   ],
   "source": [
    "#‘Int_rate’ column is character type. With the help of lambda function convert into float type.\n",
    "df['int_rate']= df[\"int_rate\"].apply(lambda x : float(x.strip(\"%\")))\n",
    "df['int_rate']"
   ]
  },
  {
   "cell_type": "markdown",
   "id": "5885dcd6",
   "metadata": {},
   "source": [
    "#### Converting emp_length column that was in string to float datatype"
   ]
  },
  {
   "cell_type": "code",
   "execution_count": 24,
   "id": "8defafab",
   "metadata": {},
   "outputs": [
    {
     "data": {
      "text/plain": [
       "0        10.0\n",
       "1         1.0\n",
       "2        10.0\n",
       "3        10.0\n",
       "4         1.0\n",
       "         ... \n",
       "39712     4.0\n",
       "39713     3.0\n",
       "39714     1.0\n",
       "39715     1.0\n",
       "39716     1.0\n",
       "Name: emp_length, Length: 39717, dtype: float64"
      ]
     },
     "execution_count": 24,
     "metadata": {},
     "output_type": "execute_result"
    }
   ],
   "source": [
    "#Converting emp_length column that was in string to float datatype \n",
    "df['emp_length'] = df['emp_length'].str.extract('(\\d+)').astype(float)\n",
    "df[\"emp_length\"]"
   ]
  },
  {
   "cell_type": "markdown",
   "id": "cb7878fc",
   "metadata": {},
   "source": [
    "Since , the mean and median line are close to each other we can use mean to impute the null values."
   ]
  },
  {
   "cell_type": "markdown",
   "id": "f6fbcba3",
   "metadata": {},
   "source": [
    "#### Imputing the null values"
   ]
  },
  {
   "cell_type": "code",
   "execution_count": 25,
   "id": "549aeaa0",
   "metadata": {},
   "outputs": [
    {
     "data": {
      "text/html": [
       "<div>\n",
       "<style scoped>\n",
       "    .dataframe tbody tr th:only-of-type {\n",
       "        vertical-align: middle;\n",
       "    }\n",
       "\n",
       "    .dataframe tbody tr th {\n",
       "        vertical-align: top;\n",
       "    }\n",
       "\n",
       "    .dataframe thead th {\n",
       "        text-align: right;\n",
       "    }\n",
       "</style>\n",
       "<table border=\"1\" class=\"dataframe\">\n",
       "  <thead>\n",
       "    <tr style=\"text-align: right;\">\n",
       "      <th></th>\n",
       "      <th>id</th>\n",
       "      <th>member_id</th>\n",
       "      <th>loan_amnt</th>\n",
       "      <th>funded_amnt</th>\n",
       "      <th>funded_amnt_inv</th>\n",
       "      <th>term</th>\n",
       "      <th>int_rate</th>\n",
       "      <th>installment</th>\n",
       "      <th>grade</th>\n",
       "      <th>emp_length</th>\n",
       "      <th>...</th>\n",
       "      <th>verification_status</th>\n",
       "      <th>loan_status</th>\n",
       "      <th>purpose</th>\n",
       "      <th>dti</th>\n",
       "      <th>total_pymnt</th>\n",
       "      <th>total_pymnt_inv</th>\n",
       "      <th>total_rec_prncp</th>\n",
       "      <th>total_rec_int</th>\n",
       "      <th>last_pymnt_d</th>\n",
       "      <th>last_pymnt_amnt</th>\n",
       "    </tr>\n",
       "  </thead>\n",
       "  <tbody>\n",
       "    <tr>\n",
       "      <th>0</th>\n",
       "      <td>1077501</td>\n",
       "      <td>1296599</td>\n",
       "      <td>5000</td>\n",
       "      <td>5000</td>\n",
       "      <td>4975.0</td>\n",
       "      <td>36 months</td>\n",
       "      <td>10.65</td>\n",
       "      <td>162.87</td>\n",
       "      <td>B</td>\n",
       "      <td>10.0</td>\n",
       "      <td>...</td>\n",
       "      <td>Verified</td>\n",
       "      <td>Fully Paid</td>\n",
       "      <td>credit_card</td>\n",
       "      <td>27.65</td>\n",
       "      <td>5863.155187</td>\n",
       "      <td>5833.84</td>\n",
       "      <td>5000.00</td>\n",
       "      <td>863.16</td>\n",
       "      <td>Jan-15</td>\n",
       "      <td>171.62</td>\n",
       "    </tr>\n",
       "    <tr>\n",
       "      <th>1</th>\n",
       "      <td>1077430</td>\n",
       "      <td>1314167</td>\n",
       "      <td>2500</td>\n",
       "      <td>2500</td>\n",
       "      <td>2500.0</td>\n",
       "      <td>60 months</td>\n",
       "      <td>15.27</td>\n",
       "      <td>59.83</td>\n",
       "      <td>C</td>\n",
       "      <td>1.0</td>\n",
       "      <td>...</td>\n",
       "      <td>Source Verified</td>\n",
       "      <td>Charged Off</td>\n",
       "      <td>car</td>\n",
       "      <td>1.00</td>\n",
       "      <td>1008.710000</td>\n",
       "      <td>1008.71</td>\n",
       "      <td>456.46</td>\n",
       "      <td>435.17</td>\n",
       "      <td>Apr-13</td>\n",
       "      <td>119.66</td>\n",
       "    </tr>\n",
       "    <tr>\n",
       "      <th>2</th>\n",
       "      <td>1077175</td>\n",
       "      <td>1313524</td>\n",
       "      <td>2400</td>\n",
       "      <td>2400</td>\n",
       "      <td>2400.0</td>\n",
       "      <td>36 months</td>\n",
       "      <td>15.96</td>\n",
       "      <td>84.33</td>\n",
       "      <td>C</td>\n",
       "      <td>10.0</td>\n",
       "      <td>...</td>\n",
       "      <td>Not Verified</td>\n",
       "      <td>Fully Paid</td>\n",
       "      <td>small_business</td>\n",
       "      <td>8.72</td>\n",
       "      <td>3005.666844</td>\n",
       "      <td>3005.67</td>\n",
       "      <td>2400.00</td>\n",
       "      <td>605.67</td>\n",
       "      <td>Jun-14</td>\n",
       "      <td>649.91</td>\n",
       "    </tr>\n",
       "    <tr>\n",
       "      <th>3</th>\n",
       "      <td>1076863</td>\n",
       "      <td>1277178</td>\n",
       "      <td>10000</td>\n",
       "      <td>10000</td>\n",
       "      <td>10000.0</td>\n",
       "      <td>36 months</td>\n",
       "      <td>13.49</td>\n",
       "      <td>339.31</td>\n",
       "      <td>C</td>\n",
       "      <td>10.0</td>\n",
       "      <td>...</td>\n",
       "      <td>Source Verified</td>\n",
       "      <td>Fully Paid</td>\n",
       "      <td>other</td>\n",
       "      <td>20.00</td>\n",
       "      <td>12231.890000</td>\n",
       "      <td>12231.89</td>\n",
       "      <td>10000.00</td>\n",
       "      <td>2214.92</td>\n",
       "      <td>Jan-15</td>\n",
       "      <td>357.48</td>\n",
       "    </tr>\n",
       "    <tr>\n",
       "      <th>4</th>\n",
       "      <td>1075358</td>\n",
       "      <td>1311748</td>\n",
       "      <td>3000</td>\n",
       "      <td>3000</td>\n",
       "      <td>3000.0</td>\n",
       "      <td>60 months</td>\n",
       "      <td>12.69</td>\n",
       "      <td>67.79</td>\n",
       "      <td>B</td>\n",
       "      <td>1.0</td>\n",
       "      <td>...</td>\n",
       "      <td>Source Verified</td>\n",
       "      <td>Current</td>\n",
       "      <td>other</td>\n",
       "      <td>17.94</td>\n",
       "      <td>3513.330000</td>\n",
       "      <td>3513.33</td>\n",
       "      <td>2475.94</td>\n",
       "      <td>1037.39</td>\n",
       "      <td>May-16</td>\n",
       "      <td>67.79</td>\n",
       "    </tr>\n",
       "  </tbody>\n",
       "</table>\n",
       "<p>5 rows × 21 columns</p>\n",
       "</div>"
      ],
      "text/plain": [
       "        id  member_id  loan_amnt  funded_amnt  funded_amnt_inv        term  \\\n",
       "0  1077501    1296599       5000         5000           4975.0   36 months   \n",
       "1  1077430    1314167       2500         2500           2500.0   60 months   \n",
       "2  1077175    1313524       2400         2400           2400.0   36 months   \n",
       "3  1076863    1277178      10000        10000          10000.0   36 months   \n",
       "4  1075358    1311748       3000         3000           3000.0   60 months   \n",
       "\n",
       "   int_rate  installment grade  emp_length  ...  verification_status  \\\n",
       "0     10.65       162.87     B        10.0  ...             Verified   \n",
       "1     15.27        59.83     C         1.0  ...      Source Verified   \n",
       "2     15.96        84.33     C        10.0  ...         Not Verified   \n",
       "3     13.49       339.31     C        10.0  ...      Source Verified   \n",
       "4     12.69        67.79     B         1.0  ...      Source Verified   \n",
       "\n",
       "   loan_status         purpose    dti   total_pymnt  total_pymnt_inv  \\\n",
       "0   Fully Paid     credit_card  27.65   5863.155187          5833.84   \n",
       "1  Charged Off             car   1.00   1008.710000          1008.71   \n",
       "2   Fully Paid  small_business   8.72   3005.666844          3005.67   \n",
       "3   Fully Paid           other  20.00  12231.890000         12231.89   \n",
       "4      Current           other  17.94   3513.330000          3513.33   \n",
       "\n",
       "   total_rec_prncp  total_rec_int  last_pymnt_d last_pymnt_amnt  \n",
       "0          5000.00         863.16        Jan-15          171.62  \n",
       "1           456.46         435.17        Apr-13          119.66  \n",
       "2          2400.00         605.67        Jun-14          649.91  \n",
       "3         10000.00        2214.92        Jan-15          357.48  \n",
       "4          2475.94        1037.39        May-16           67.79  \n",
       "\n",
       "[5 rows x 21 columns]"
      ]
     },
     "execution_count": 25,
     "metadata": {},
     "output_type": "execute_result"
    }
   ],
   "source": [
    "#Impute null values in emp_length column with mean value\n",
    "df.emp_length.fillna(df.emp_length.mean(),inplace=True)\n",
    "\n",
    "#Impute null values in last_pymnt_d column with mode value\n",
    "df.last_pymnt_d.fillna(df.last_pymnt_d.mode().values[0],inplace=True)\n",
    "df.head()"
   ]
  },
  {
   "cell_type": "code",
   "execution_count": 26,
   "id": "d104de3c",
   "metadata": {},
   "outputs": [
    {
     "data": {
      "text/plain": [
       "0"
      ]
     },
     "execution_count": 26,
     "metadata": {},
     "output_type": "execute_result"
    }
   ],
   "source": [
    "#Checking pending null values\n",
    "df.isnull().sum().sum()"
   ]
  },
  {
   "cell_type": "markdown",
   "id": "e9556be1",
   "metadata": {},
   "source": [
    "#### Find the value counts of the ‘loan_status’"
   ]
  },
  {
   "cell_type": "code",
   "execution_count": 50,
   "id": "45b2c83b",
   "metadata": {},
   "outputs": [
    {
     "data": {
      "text/plain": [
       "Fully Paid     32950\n",
       "Charged Off     5627\n",
       "Current         1140\n",
       "Name: loan_status, dtype: int64"
      ]
     },
     "execution_count": 50,
     "metadata": {},
     "output_type": "execute_result"
    }
   ],
   "source": [
    "# count of each status in loan_status column\n",
    "df[\"loan_status\"].value_counts() "
   ]
  },
  {
   "cell_type": "markdown",
   "id": "b1cf531a",
   "metadata": {},
   "source": [
    "#### Filter only the ‘fully paid’ and ‘charged off’ categories"
   ]
  },
  {
   "cell_type": "code",
   "execution_count": 51,
   "id": "2fbb6aa5",
   "metadata": {},
   "outputs": [],
   "source": [
    "# Filter out fully paid and charged off categories\n",
    "d=df[df[\"loan_status\"] != \"Current\"] "
   ]
  },
  {
   "cell_type": "markdown",
   "id": "d0158b74",
   "metadata": {},
   "source": [
    "#### After filtering fully paid’ and ‘charged off’ categories"
   ]
  },
  {
   "cell_type": "code",
   "execution_count": 52,
   "id": "a7a12918",
   "metadata": {},
   "outputs": [
    {
     "data": {
      "text/plain": [
       "Fully Paid     32950\n",
       "Charged Off     5627\n",
       "Name: loan_status, dtype: int64"
      ]
     },
     "execution_count": 52,
     "metadata": {},
     "output_type": "execute_result"
    }
   ],
   "source": [
    "# count of each status in loan_status column after removing current value\n",
    "d[\"loan_status\"].value_counts() "
   ]
  },
  {
   "cell_type": "markdown",
   "id": "694a665c",
   "metadata": {},
   "source": [
    "#### Removing the month from the ‘term’ column"
   ]
  },
  {
   "cell_type": "code",
   "execution_count": 27,
   "id": "fed35ab9",
   "metadata": {},
   "outputs": [
    {
     "data": {
      "text/plain": [
       "0        36\n",
       "1        60\n",
       "2        36\n",
       "3        36\n",
       "4        60\n",
       "         ..\n",
       "39712    36\n",
       "39713    36\n",
       "39714    36\n",
       "39715    36\n",
       "39716    36\n",
       "Name: term, Length: 39717, dtype: int64"
      ]
     },
     "execution_count": 27,
     "metadata": {},
     "output_type": "execute_result"
    }
   ],
   "source": [
    "# Remove month from term column using lambda function such that ‘36 months’, ‘60 months’ appear as 36 and 60 respectively\n",
    "df[\"term\"]=df[\"term\"].apply(lambda x: int(x.strip(' ')[0:2])) \n",
    "df[\"term\"]"
   ]
  },
  {
   "cell_type": "markdown",
   "id": "8a90a776",
   "metadata": {},
   "source": [
    "#### Create a new column as risky_loan_applicant by comparing loan_amnt and funded_amnt\n",
    "#### If loan_amnt is less than equals to funded_amnt set it as ‘0’ else set it as ‘1’"
   ]
  },
  {
   "cell_type": "code",
   "execution_count": 31,
   "id": "67ab9dc2",
   "metadata": {},
   "outputs": [
    {
     "data": {
      "text/plain": [
       "0    37868\n",
       "1     1849\n",
       "Name: risky_loan_applicant, dtype: int64"
      ]
     },
     "execution_count": 31,
     "metadata": {},
     "output_type": "execute_result"
    }
   ],
   "source": [
    "#setting loan amount to 0 if it is less than funded_amnt using lambda function\n",
    "df[\"risky_loan_applicant\"] = df.apply(lambda x : 0 if x[\"loan_amnt\"] <= x[\"funded_amnt\"] else 1,axis=1) \n",
    "df[\"risky_loan_applicant\"].value_counts()"
   ]
  },
  {
   "cell_type": "markdown",
   "id": "4a82fca4",
   "metadata": {},
   "source": [
    "#### Barplot: loan_status vs grade"
   ]
  },
  {
   "cell_type": "code",
   "execution_count": 56,
   "id": "31e44d7e",
   "metadata": {},
   "outputs": [
    {
     "data": {
      "image/png": "[encoded data removed]",
      "text/plain": [
       "<Figure size 432x288 with 1 Axes>"
      ]
     },
     "metadata": {
      "needs_background": "light"
     },
     "output_type": "display_data"
    }
   ],
   "source": [
    "# plot bar plot using loan status vs grade \n",
    "color = sns.set_palette('rocket_r')\n",
    "stack = pd.crosstab(df['loan_status'],df['grade'])\n",
    "stack.plot.bar(color)\n",
    "plt.title(\"Loan Status vs Grade\", fontsize = 16)\n",
    "plt.xlabel('Loan Status', fontsize = 16)\n",
    "plt.ylabel('Grade', fontsize = 16)\n",
    "plt.show()"
   ]
  },
  {
   "cell_type": "markdown",
   "id": "7273b012",
   "metadata": {},
   "source": [
    "The plot highlights that the majority of individuals across different loan statuses belong to grade B. This suggests that people in grade B are at a relatively lower risk level. Grades are assigned based on credit scores, with grade A representing the lowest expected risk and grade G indicating the highest expected risk. Given this, it is essential to exercise caution and carefully evaluate loan applications from individuals in grade G to minimize potential risks."
   ]
  },
  {
   "cell_type": "markdown",
   "id": "b30a315d",
   "metadata": {},
   "source": [
    "#### Barplot: loan_status vs term"
   ]
  },
  {
   "cell_type": "code",
   "execution_count": 53,
   "id": "b543e781",
   "metadata": {},
   "outputs": [
    {
     "data": {
      "image/png": "[encoded data removed]",
      "text/plain": [
       "<Figure size 432x288 with 1 Axes>"
      ]
     },
     "metadata": {
      "needs_background": "light"
     },
     "output_type": "display_data"
    }
   ],
   "source": [
    "#plot bar plot using loan status vs term\n",
    "color = sns.set_palette('rocket_r')\n",
    "stack = pd.crosstab(df['loan_status'],df['term'])\n",
    "stack.plot.bar(color)\n",
    "plt.title(\"Loan Status vs Term\", fontsize = 16)\n",
    "plt.xlabel('Loan Status', fontsize = 16)\n",
    "plt.ylabel('Term', fontsize = 16)\n",
    "plt.show()"
   ]
  },
  {
   "cell_type": "markdown",
   "id": "c0629c67",
   "metadata": {},
   "source": [
    "The plot illustrates that most fully paid and charged off loan statuses are associated with a 36-month term duration, while current loan statuses are exclusively for 60-month terms. With fewer charged off cases compared to fully paid, it suggests that around 20% of individuals pose a higher risk."
   ]
  },
  {
   "cell_type": "markdown",
   "id": "59551fb7",
   "metadata": {},
   "source": [
    "#### Barplot: loan_status vs verification_status"
   ]
  },
  {
   "cell_type": "code",
   "execution_count": 54,
   "id": "8920c1d8",
   "metadata": {},
   "outputs": [
    {
     "data": {
      "image/png": "[encoded data removed]",
      "text/plain": [
       "<Figure size 432x288 with 1 Axes>"
      ]
     },
     "metadata": {
      "needs_background": "light"
     },
     "output_type": "display_data"
    }
   ],
   "source": [
    "#plot bar plot using loan status vs verification status\n",
    "color = sns.set_palette('rocket_r')\n",
    "stack = pd.crosstab(df['loan_status'],df['verification_status'])\n",
    "stack.plot.bar(color)\n",
    "plt.title(\"Loan Status vs Verification Status\", fontsize = 16)\n",
    "plt.xlabel('Loan Status', fontsize = 16)\n",
    "plt.ylabel('Verification Status', fontsize = 16)\n",
    "plt.show()"
   ]
  },
  {
   "cell_type": "markdown",
   "id": "97d1688d",
   "metadata": {},
   "source": [
    "* The graph reveals that the count of individuals in the \"charged off\" status is roughly equal between those who have verified and those who have not verified their loan status. \n",
    "* However, a noteworthy observation is that a substantial number of individuals have successfully paid off their loans. Interestingly, the number of people who have gone through source verification is lower compared to those who have not."
   ]
  },
  {
   "cell_type": "markdown",
   "id": "7eefb33b",
   "metadata": {},
   "source": [
    "#### Converting the ‘emp_len’ column into categorical column"
   ]
  },
  {
   "cell_type": "code",
   "execution_count": 35,
   "id": "353ec3c7",
   "metadata": {},
   "outputs": [
    {
     "data": {
      "text/plain": [
       "0         Expert\n",
       "1        Fresher\n",
       "2         Expert\n",
       "3         Expert\n",
       "4        Fresher\n",
       "          ...   \n",
       "39712     Senior\n",
       "39713     Expert\n",
       "39714    Fresher\n",
       "39715    Fresher\n",
       "39716    Fresher\n",
       "Name: emp_length, Length: 39717, dtype: object"
      ]
     },
     "execution_count": 35,
     "metadata": {},
     "output_type": "execute_result"
    }
   ],
   "source": [
    "# defining a function\n",
    "def fun(x): \n",
    "    if x <= 1:\n",
    "        return \"Fresher\"\n",
    "    elif x > 1 and x < 3:\n",
    "        return \"Junior\"\n",
    "    elif x > 3 and x < 7:\n",
    "        return \"Senior\"\n",
    "    else:\n",
    "        return \"Expert\"\n",
    "    \n",
    "# applying user defined function in emp_length table   \n",
    "df[\"emp_length\"] = df[\"emp_length\"].apply(fun)\n",
    "df[\"emp_length\"]"
   ]
  },
  {
   "cell_type": "markdown",
   "id": "bc18e778",
   "metadata": {},
   "source": [
    "#### Display the distribution of ‘loan_amnt’"
   ]
  },
  {
   "cell_type": "code",
   "execution_count": 42,
   "id": "a539279e",
   "metadata": {},
   "outputs": [
    {
     "data": {
      "image/png": "[encoded data removed]",
      "text/plain": [
       "<Figure size 576x576 with 1 Axes>"
      ]
     },
     "metadata": {},
     "output_type": "display_data"
    }
   ],
   "source": [
    "# extract sum of loan amount based on grade\n",
    "grade_sum =  df.groupby(\"grade\")[\"loan_amnt\"].sum()\n",
    "\n",
    "# Distribution using Pie plot\n",
    "plt.figure(figsize=(8, 8))                             # Figure size\n",
    "color = sns.set_palette('Set2')                        # Setting colour palette\n",
    "plt.title(\"Distribution of Loan Amount\", fontsize=16)  # Display title in the given font size\n",
    "pie = grade_sum.plot(kind=\"pie\", autopct='%1.1f%%')    # plot a pie plot using sum of loan amount for each grade\n",
    "plt.legend(loc=\"upper right\", bbox_to_anchor=(1.2, 1)) # Display each grades on top right\n",
    "plt.show()                                             # display the plot"
   ]
  },
  {
   "cell_type": "markdown",
   "id": "57e8201a",
   "metadata": {},
   "source": [
    "From the graph it can be concluded that grade B has the highest percentage and grade G has the lowest percentage of loan amount."
   ]
  },
  {
   "cell_type": "markdown",
   "id": "152b6dfa",
   "metadata": {},
   "source": [
    "<a id=\"conclusion\"> <a>\n",
    "# Conclusion"
   ]
  },
  {
   "cell_type": "markdown",
   "id": "baca14aa",
   "metadata": {},
   "source": [
    "* In this case study, we were given a dataset of loans with the objective of identifying variables that indicate whether a person is likely to default. Our main goal was to identify risky loan applicants in order to prevent any financial losses for the company.\n",
    "* To achieve this, we performed a descriptive analysis of the dataset using Python libraries. We applied data cleaning, processing, analysis, and visualization techniques to gain insights into the dataset and provide valuable information to the company for mitigating future financial risks.\n",
    "* We compared the loan status of individuals based on their grades, term duration, and verification status using graphical representations. By analyzing the graphs, we observed that the count of risky loan applicants was relatively lower compared to those who consistently paid their debts on time.\n",
    "* Additionally, we discovered that individuals with grade G had the lowest credit scores and were provided with the lowest percentage of the loan amount. The graphs indicated that the number of applicants falling under grade G was relatively small, and they were more likely to default on their loans. Therefore, we recommended performing thorough verification and documentation for individuals with grade G before approving loans, as they have the potential to become risky applicants in the future."
   ]
  }
 ],
 "metadata": {
  "kernelspec": {
   "display_name": "Python 3 (ipykernel)",
   "language": "python",
   "name": "python3"
  },
  "language_info": {
   "codemirror_mode": {
    "name": "ipython",
    "version": 3
   },
   "file_extension": ".py",
   "mimetype": "text/x-python",
   "name": "python",
   "nbconvert_exporter": "python",
   "pygments_lexer": "ipython3",
   "version": "3.9.12"
  }
 },
 "nbformat": 4,
 "nbformat_minor": 5
}
